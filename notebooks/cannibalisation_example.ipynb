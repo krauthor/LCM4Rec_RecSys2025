{
 "cells": [
  {
   "cell_type": "code",
   "execution_count": 40,
   "metadata": {},
   "outputs": [],
   "source": [
    "import numpy as np\n",
    "\n",
    "utilities = [1.5, 0, 2]"
   ]
  },
  {
   "cell_type": "code",
   "execution_count": 41,
   "metadata": {},
   "outputs": [],
   "source": [
    "def approx_choice_prob(utilities, model_name, n_samples=100000000):\n",
    "    print(f\"Calculating probabilities using {model_name} model and utilities {utilities} with {n_samples} samples...\")\n",
    "\n",
    "    utilities = np.expand_dims(utilities, axis=0)\n",
    "\n",
    "    if model_name == \"multinomial_logit\":\n",
    "        choices = np.argmax(utilities + np.random.gumbel(size=(n_samples, utilities.shape[1])), axis=1)\n",
    "    elif model_name == \"exponomial\":\n",
    "        choices = np.argmax(utilities - np.random.exponential(size=(n_samples, utilities.shape[1])), axis=1)\n",
    "    else:\n",
    "        raise ValueError(\"Unknown model name\")\n",
    "\n",
    "    num_choices = np.unique(choices, return_counts=True)[1]\n",
    "\n",
    "    return num_choices / n_samples"
   ]
  },
  {
   "cell_type": "code",
   "execution_count": 42,
   "metadata": {},
   "outputs": [
    {
     "name": "stdout",
     "output_type": "stream",
     "text": [
      "Calculating probabilities using multinomial_logit model and utilities [1.5, 0] with 100000000 samples...\n",
      "Calculating probabilities using exponomial model and utilities [1.5, 0] with 100000000 samples...\n",
      "Calculating probabilities using multinomial_logit model and utilities [1.5, 0, 2] with 100000000 samples...\n",
      "Calculating probabilities using exponomial model and utilities [1.5, 0, 2] with 100000000 samples...\n",
      "Probabilities for two items using MNL: [0.81752692 0.18247308]\n",
      "Probabilities for three items using MNL: [0.34822131 0.07768907 0.57408962]\n",
      "Probability ratios using MNL: [0.42594476 0.42575634]\n",
      "Probabilities for two items using exp: [0.88847708 0.11152292]\n",
      "Probabilities for three items using exp: [0.29825117 0.01006155 0.69168728]\n",
      "Probability ratios using exp: [0.33568809 0.09021957]\n"
     ]
    }
   ],
   "source": [
    "\n",
    "probs_two_items_mnl = approx_choice_prob(utilities[:2], \"multinomial_logit\")\n",
    "probs_two_items_exp = approx_choice_prob(utilities[:2], \"exponomial\")\n",
    "\n",
    "probs_three_items_mnl = approx_choice_prob(utilities, \"multinomial_logit\")\n",
    "probs_three_items_exp = approx_choice_prob(utilities, \"exponomial\")\n",
    "\n",
    "print(f\"Probabilities for two items using MNL: {probs_two_items_mnl}\")\n",
    "print(f\"Probabilities for three items using MNL: {probs_three_items_mnl}\")\n",
    "print(f\"Probability ratios using MNL: {probs_three_items_mnl[:2]/probs_two_items_mnl}\")\n",
    "\n",
    "print(f\"Probabilities for two items using exp: {probs_two_items_exp}\")\n",
    "print(f\"Probabilities for three items using exp: {probs_three_items_exp}\")\n",
    "print(f\"Probability ratios using exp: {probs_three_items_exp[:2]/probs_two_items_exp}\")"
   ]
  },
  {
   "cell_type": "code",
   "execution_count": null,
   "metadata": {},
   "outputs": [
    {
     "name": "stdout",
     "output_type": "stream",
     "text": [
      "      &            & Choice probability\n",
      "Model & Choice set & i_1 & i_2 & i_3\n",
      "MNL & 2 & 0.818 & 0.182 \\\\\n",
      "MNL & 3 & 0.348 & 0.078 & 0.574 \\\\\n",
      "Exp & 2 & 0.888 & 0.112 \\\\\n",
      "Exp & 3 & 0.298 & 0.010 & 0.692 \\\\\n"
     ]
    }
   ],
   "source": [
    "# Output as LaTeX table, round to 2 decimal places\n",
    "header = \"      &            & Choice probability\\nModel & Choice set & \" + \" & \".join([f\"i_{i+1}\" for i in range(len(utilities))])\n",
    "print(header)\n",
    "\n",
    "print(\"MNL & 2 & \" + \" & \".join([f\"{p:.3f}\" for p in probs_two_items_mnl]) + r\" \\\\\")\n",
    "print(\"MNL & 3 & \" + \" & \".join([f\"{p:.3f}\" for p in probs_three_items_mnl]) + r\" \\\\\")\n",
    "print(\"Exp & 2 & \" + \" & \".join([f\"{p:.3f}\" for p in probs_two_items_exp]) + r\" \\\\\")\n",
    "print(\"Exp & 3 & \" + \" & \".join([f\"{p:.3f}\" for p in probs_three_items_exp]) + r\" \\\\\")"
   ]
  }
 ],
 "metadata": {
  "kernelspec": {
   "display_name": ".venv",
   "language": "python",
   "name": "python3"
  },
  "language_info": {
   "codemirror_mode": {
    "name": "ipython",
    "version": 3
   },
   "file_extension": ".py",
   "mimetype": "text/x-python",
   "name": "python",
   "nbconvert_exporter": "python",
   "pygments_lexer": "ipython3",
   "version": "3.11.8"
  }
 },
 "nbformat": 4,
 "nbformat_minor": 2
}
